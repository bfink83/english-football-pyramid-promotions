{
 "cells": [
  {
   "cell_type": "code",
   "execution_count": 1,
   "id": "87aa42c8",
   "metadata": {},
   "outputs": [],
   "source": [
    "import pandas as pd\n",
    "import numpy as np\n",
    "import requests"
   ]
  },
  {
   "cell_type": "code",
   "execution_count": 2,
   "id": "9669c1e8",
   "metadata": {},
   "outputs": [],
   "source": [
    "leagues = ['National League North', 'National League South']\n",
    "\n",
    "header = {\n",
    "  \"User-Agent\": \"Mozilla/5.0 (X11; Linux x86_64) AppleWebKit/537.36 (KHTML, like Gecko) Chrome/50.0.2661.75 Safari/537.36\",\n",
    "  \"X-Requested-With\": \"XMLHttpRequest\"\n",
    "}\n",
    "\n",
    "league_ids = ['2/', '3/']\n",
    "\n",
    "url = 'https://www.nonleaguematters.co.uk/divisions/'\n",
    "\n",
    "regex = ['Home', 'Away', 'W', 'D', 'L', 'F', 'A', 'GD']\n",
    "\n",
    "newTables = []"
   ]
  },
  {
   "cell_type": "code",
   "execution_count": 3,
   "id": "4bec1b46",
   "metadata": {},
   "outputs": [],
   "source": [
    "i = np.arange(1,25,1)\n",
    "\n",
    "for lid in league_ids:\n",
    "    r = requests.get(url + lid, headers=header)\n",
    "    df = pd.read_html(r.text)[1]\n",
    "    df.columns = df.columns.to_flat_index()\n",
    "    for r in regex:\n",
    "        df = df[df.columns.drop(list(df.filter(regex=r)))]\n",
    "    df = df.set_axis(['Pos', 'Team', 'Pld', 'Pts'], axis=1, inplace=False)\n",
    "    df = df.drop(['Pos'], axis=1)\n",
    "    df = df[df['Pld'].apply(lambda x: str(x).isdigit())]\n",
    "    df = df.set_index(i)\n",
    "    newTables.append(df)"
   ]
  },
  {
   "cell_type": "code",
   "execution_count": 4,
   "id": "988f98fe",
   "metadata": {},
   "outputs": [],
   "source": [
    "dfn = newTables[0]\n",
    "dfs = newTables[1]"
   ]
  },
  {
   "cell_type": "code",
   "execution_count": 5,
   "id": "36745fc3",
   "metadata": {},
   "outputs": [
    {
     "name": "stdout",
     "output_type": "stream",
     "text": [
      "Promoted Clubs: \n",
      "Leamington\n",
      "\n",
      "Promotion Playoff Clubs: \n",
      "Southport\n",
      "Darlington\n",
      "Brackley Town\n",
      "AFC Fylde\n",
      "Banbury United\n",
      "AFC Telford United\n",
      "Promoted Clubs: \n",
      "Ebbsfleet United\n",
      "\n",
      "Promotion Playoff Clubs: \n",
      "Eastbourne Borough\n",
      "Havant and Waterlooville\n",
      "Tonbridge Angels\n",
      "Dartford\n",
      "Cheshunt\n",
      "Dulwich Hamlet\n"
     ]
    }
   ],
   "source": [
    "print(\"Promoted Clubs: \")\n",
    "print(dfn['Team'][1])\n",
    "print()\n",
    "print(\"Promotion Playoff Clubs: \")\n",
    "print(dfn['Team'][2])\n",
    "print(dfn['Team'][3])\n",
    "print(dfn['Team'][4])\n",
    "print(dfn['Team'][5])\n",
    "print(dfn['Team'][6])\n",
    "print(dfn['Team'][7])\n",
    "\n",
    "print(\"Promoted Clubs: \")\n",
    "print(dfs['Team'][1])\n",
    "print()\n",
    "print(\"Promotion Playoff Clubs: \")\n",
    "print(dfs['Team'][2])\n",
    "print(dfs['Team'][3])\n",
    "print(dfs['Team'][4])\n",
    "print(dfs['Team'][5])\n",
    "print(dfs['Team'][6])\n",
    "print(dfs['Team'][7])"
   ]
  },
  {
   "cell_type": "code",
   "execution_count": 6,
   "id": "0aa10a7f",
   "metadata": {},
   "outputs": [
    {
     "name": "stdout",
     "output_type": "stream",
     "text": [
      "Relegated Clubs: \n",
      "Boston United\n",
      "Gloucester City\n",
      "Scarborough Athletic\n",
      "Farsley Celtic\n",
      "Relegated Clubs: \n",
      "Slough Town\n",
      "Weymouth\n",
      "Bath City\n",
      "Chippenham Town\n"
     ]
    }
   ],
   "source": [
    "print(\"Relegated Clubs: \")\n",
    "print(dfn['Team'][21])\n",
    "print(dfn['Team'][22])\n",
    "print(dfn['Team'][23])\n",
    "print(dfn['Team'][24])\n",
    "\n",
    "print(\"Relegated Clubs: \")\n",
    "print(dfs['Team'][21])\n",
    "print(dfs['Team'][22])\n",
    "print(dfs['Team'][23])\n",
    "print(dfs['Team'][24])"
   ]
  }
 ],
 "metadata": {
  "kernelspec": {
   "display_name": "Python 3",
   "language": "python",
   "name": "python3"
  },
  "language_info": {
   "codemirror_mode": {
    "name": "ipython",
    "version": 3
   },
   "file_extension": ".py",
   "mimetype": "text/x-python",
   "name": "python",
   "nbconvert_exporter": "python",
   "pygments_lexer": "ipython3",
   "version": "3.8.8"
  }
 },
 "nbformat": 4,
 "nbformat_minor": 5
}
