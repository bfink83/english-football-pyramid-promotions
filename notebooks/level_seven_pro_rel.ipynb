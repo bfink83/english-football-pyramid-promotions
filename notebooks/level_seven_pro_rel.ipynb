{
 "cells": [
  {
   "cell_type": "code",
   "execution_count": 1,
   "id": "37d42f2e",
   "metadata": {},
   "outputs": [],
   "source": [
    "import pandas as pd\n",
    "import numpy as np\n",
    "import requests"
   ]
  },
  {
   "cell_type": "code",
   "execution_count": 2,
   "id": "c30023ec",
   "metadata": {},
   "outputs": [],
   "source": [
    "leagues = ['Isthmian League Premier Division', 'Northern Premier League Premier Division', 'Southern League Premier Division South', 'Southern League Premier Division Central']\n",
    "\n",
    "header = {\n",
    "  \"User-Agent\": \"Mozilla/5.0 (X11; Linux x86_64) AppleWebKit/537.36 (KHTML, like Gecko) Chrome/50.0.2661.75 Safari/537.36\",\n",
    "  \"X-Requested-With\": \"XMLHttpRequest\"\n",
    "}\n",
    "\n",
    "league_ids = ['10/', '4/', '7/', '239/']\n",
    "\n",
    "url = 'https://www.nonleaguematters.co.uk/divisions/'\n",
    "\n",
    "regex = ['Home', 'Away', 'W', 'D', 'L', 'F', 'A', 'GD']\n",
    "\n",
    "newTables = []"
   ]
  },
  {
   "cell_type": "code",
   "execution_count": 3,
   "id": "127d9f50",
   "metadata": {},
   "outputs": [],
   "source": [
    "i = np.arange(1,23,1)\n",
    "\n",
    "for lid in league_ids:\n",
    "    r = requests.get(url + lid, headers=header)\n",
    "    df = pd.read_html(r.text)[1]\n",
    "    df.columns = df.columns.to_flat_index()\n",
    "    for r in regex:\n",
    "        df = df[df.columns.drop(list(df.filter(regex=r)))]\n",
    "    df = df.set_axis(['Pos', 'Team', 'Pld', 'Pts'], axis=1, inplace=False)\n",
    "    df = df.drop(['Pos'], axis=1)\n",
    "    df = df[df['Pld'].apply(lambda x: str(x).isdigit())]\n",
    "    df = df.set_index(i)\n",
    "    newTables.append(df)"
   ]
  },
  {
   "cell_type": "code",
   "execution_count": 4,
   "id": "87a5bb59",
   "metadata": {},
   "outputs": [],
   "source": [
    "dfi = newTables[0]\n",
    "dfn = newTables[1]\n",
    "dfss = newTables[2]\n",
    "dfsc = newTables[3]"
   ]
  },
  {
   "cell_type": "code",
   "execution_count": 5,
   "id": "b64d1f9a",
   "metadata": {},
   "outputs": [
    {
     "name": "stdout",
     "output_type": "stream",
     "text": [
      "Promoted Clubs: \n",
      "Aveley\n",
      "\n",
      "Promotion Playoff Clubs: \n",
      "Billericay Town\n",
      "Bishop's Stortford\n",
      "Bognor Regis Town\n",
      "Bowers & Pitsea\n",
      "Promoted Clubs: \n",
      "Ashton United\n",
      "\n",
      "Promotion Playoff Clubs: \n",
      "Atherton Collieries\n",
      "Bamber Bridge\n",
      "Belper Town\n",
      "FC United of Manchester\n",
      "Promoted Clubs: \n",
      "Poole Town\n",
      "\n",
      "Promotion Playoff Clubs: \n",
      "Swindon Supermarine\n",
      "Truro City\n",
      "Gosport Borough\n",
      "Dorchester Town\n",
      "Promoted Clubs: \n",
      "Coalville Town\n",
      "\n",
      "Promotion Playoff Clubs: \n",
      "Royston Town\n",
      "Leiston\n",
      "Hitchin Town\n",
      "St Ives Town\n"
     ]
    }
   ],
   "source": [
    "print(\"Promoted Clubs: \")\n",
    "print(dfi['Team'][1])\n",
    "print()\n",
    "print(\"Promotion Playoff Clubs: \")\n",
    "print(dfi['Team'][2])\n",
    "print(dfi['Team'][3])\n",
    "print(dfi['Team'][4])\n",
    "print(dfi['Team'][5])\n",
    "\n",
    "print(\"Promoted Clubs: \")\n",
    "print(dfn['Team'][1])\n",
    "print()\n",
    "print(\"Promotion Playoff Clubs: \")\n",
    "print(dfn['Team'][2])\n",
    "print(dfn['Team'][3])\n",
    "print(dfn['Team'][4])\n",
    "print(dfn['Team'][5])\n",
    "\n",
    "print(\"Promoted Clubs: \")\n",
    "print(dfss['Team'][1])\n",
    "print()\n",
    "print(\"Promotion Playoff Clubs: \")\n",
    "print(dfss['Team'][2])\n",
    "print(dfss['Team'][3])\n",
    "print(dfss['Team'][4])\n",
    "print(dfss['Team'][5])\n",
    "\n",
    "print(\"Promoted Clubs: \")\n",
    "print(dfsc['Team'][1])\n",
    "print()\n",
    "print(\"Promotion Playoff Clubs: \")\n",
    "print(dfsc['Team'][2])\n",
    "print(dfsc['Team'][3])\n",
    "print(dfsc['Team'][4])\n",
    "print(dfsc['Team'][5])"
   ]
  },
  {
   "cell_type": "code",
   "execution_count": 6,
   "id": "3fe62c3f",
   "metadata": {},
   "outputs": [
    {
     "name": "stdout",
     "output_type": "stream",
     "text": [
      "Relegated Clubs: \n",
      "Potters Bar Town\n",
      "Wingate & Finchley\n"
     ]
    },
    {
     "ename": "KeyError",
     "evalue": "23",
     "output_type": "error",
     "traceback": [
      "\u001b[0;31m---------------------------------------------------------------------------\u001b[0m",
      "\u001b[0;31mKeyError\u001b[0m                                  Traceback (most recent call last)",
      "\u001b[0;32m~/opt/anaconda3/lib/python3.8/site-packages/pandas/core/indexes/base.py\u001b[0m in \u001b[0;36mget_loc\u001b[0;34m(self, key, method, tolerance)\u001b[0m\n\u001b[1;32m   3079\u001b[0m             \u001b[0;32mtry\u001b[0m\u001b[0;34m:\u001b[0m\u001b[0;34m\u001b[0m\u001b[0;34m\u001b[0m\u001b[0m\n\u001b[0;32m-> 3080\u001b[0;31m                 \u001b[0;32mreturn\u001b[0m \u001b[0mself\u001b[0m\u001b[0;34m.\u001b[0m\u001b[0m_engine\u001b[0m\u001b[0;34m.\u001b[0m\u001b[0mget_loc\u001b[0m\u001b[0;34m(\u001b[0m\u001b[0mcasted_key\u001b[0m\u001b[0;34m)\u001b[0m\u001b[0;34m\u001b[0m\u001b[0;34m\u001b[0m\u001b[0m\n\u001b[0m\u001b[1;32m   3081\u001b[0m             \u001b[0;32mexcept\u001b[0m \u001b[0mKeyError\u001b[0m \u001b[0;32mas\u001b[0m \u001b[0merr\u001b[0m\u001b[0;34m:\u001b[0m\u001b[0;34m\u001b[0m\u001b[0;34m\u001b[0m\u001b[0m\n",
      "\u001b[0;32mpandas/_libs/index.pyx\u001b[0m in \u001b[0;36mpandas._libs.index.IndexEngine.get_loc\u001b[0;34m()\u001b[0m\n",
      "\u001b[0;32mpandas/_libs/index.pyx\u001b[0m in \u001b[0;36mpandas._libs.index.IndexEngine.get_loc\u001b[0;34m()\u001b[0m\n",
      "\u001b[0;32mpandas/_libs/hashtable_class_helper.pxi\u001b[0m in \u001b[0;36mpandas._libs.hashtable.Int64HashTable.get_item\u001b[0;34m()\u001b[0m\n",
      "\u001b[0;32mpandas/_libs/hashtable_class_helper.pxi\u001b[0m in \u001b[0;36mpandas._libs.hashtable.Int64HashTable.get_item\u001b[0;34m()\u001b[0m\n",
      "\u001b[0;31mKeyError\u001b[0m: 23",
      "\nThe above exception was the direct cause of the following exception:\n",
      "\u001b[0;31mKeyError\u001b[0m                                  Traceback (most recent call last)",
      "\u001b[0;32m<ipython-input-6-20990ff31cd7>\u001b[0m in \u001b[0;36m<module>\u001b[0;34m\u001b[0m\n\u001b[1;32m      2\u001b[0m \u001b[0mprint\u001b[0m\u001b[0;34m(\u001b[0m\u001b[0mdfi\u001b[0m\u001b[0;34m[\u001b[0m\u001b[0;34m'Team'\u001b[0m\u001b[0;34m]\u001b[0m\u001b[0;34m[\u001b[0m\u001b[0;36m21\u001b[0m\u001b[0;34m]\u001b[0m\u001b[0;34m)\u001b[0m\u001b[0;34m\u001b[0m\u001b[0;34m\u001b[0m\u001b[0m\n\u001b[1;32m      3\u001b[0m \u001b[0mprint\u001b[0m\u001b[0;34m(\u001b[0m\u001b[0mdfi\u001b[0m\u001b[0;34m[\u001b[0m\u001b[0;34m'Team'\u001b[0m\u001b[0;34m]\u001b[0m\u001b[0;34m[\u001b[0m\u001b[0;36m22\u001b[0m\u001b[0;34m]\u001b[0m\u001b[0;34m)\u001b[0m\u001b[0;34m\u001b[0m\u001b[0;34m\u001b[0m\u001b[0m\n\u001b[0;32m----> 4\u001b[0;31m \u001b[0mprint\u001b[0m\u001b[0;34m(\u001b[0m\u001b[0mdfi\u001b[0m\u001b[0;34m[\u001b[0m\u001b[0;34m'Team'\u001b[0m\u001b[0;34m]\u001b[0m\u001b[0;34m[\u001b[0m\u001b[0;36m23\u001b[0m\u001b[0;34m]\u001b[0m\u001b[0;34m)\u001b[0m\u001b[0;34m\u001b[0m\u001b[0;34m\u001b[0m\u001b[0m\n\u001b[0m\u001b[1;32m      5\u001b[0m \u001b[0mprint\u001b[0m\u001b[0;34m(\u001b[0m\u001b[0mdfi\u001b[0m\u001b[0;34m[\u001b[0m\u001b[0;34m'Team'\u001b[0m\u001b[0;34m]\u001b[0m\u001b[0;34m[\u001b[0m\u001b[0;36m24\u001b[0m\u001b[0;34m]\u001b[0m\u001b[0;34m)\u001b[0m\u001b[0;34m\u001b[0m\u001b[0;34m\u001b[0m\u001b[0m\n\u001b[1;32m      6\u001b[0m \u001b[0;34m\u001b[0m\u001b[0m\n",
      "\u001b[0;32m~/opt/anaconda3/lib/python3.8/site-packages/pandas/core/series.py\u001b[0m in \u001b[0;36m__getitem__\u001b[0;34m(self, key)\u001b[0m\n\u001b[1;32m    851\u001b[0m \u001b[0;34m\u001b[0m\u001b[0m\n\u001b[1;32m    852\u001b[0m         \u001b[0;32melif\u001b[0m \u001b[0mkey_is_scalar\u001b[0m\u001b[0;34m:\u001b[0m\u001b[0;34m\u001b[0m\u001b[0;34m\u001b[0m\u001b[0m\n\u001b[0;32m--> 853\u001b[0;31m             \u001b[0;32mreturn\u001b[0m \u001b[0mself\u001b[0m\u001b[0;34m.\u001b[0m\u001b[0m_get_value\u001b[0m\u001b[0;34m(\u001b[0m\u001b[0mkey\u001b[0m\u001b[0;34m)\u001b[0m\u001b[0;34m\u001b[0m\u001b[0;34m\u001b[0m\u001b[0m\n\u001b[0m\u001b[1;32m    854\u001b[0m \u001b[0;34m\u001b[0m\u001b[0m\n\u001b[1;32m    855\u001b[0m         \u001b[0;32mif\u001b[0m \u001b[0mis_hashable\u001b[0m\u001b[0;34m(\u001b[0m\u001b[0mkey\u001b[0m\u001b[0;34m)\u001b[0m\u001b[0;34m:\u001b[0m\u001b[0;34m\u001b[0m\u001b[0;34m\u001b[0m\u001b[0m\n",
      "\u001b[0;32m~/opt/anaconda3/lib/python3.8/site-packages/pandas/core/series.py\u001b[0m in \u001b[0;36m_get_value\u001b[0;34m(self, label, takeable)\u001b[0m\n\u001b[1;32m    959\u001b[0m \u001b[0;34m\u001b[0m\u001b[0m\n\u001b[1;32m    960\u001b[0m         \u001b[0;31m# Similar to Index.get_value, but we do not fall back to positional\u001b[0m\u001b[0;34m\u001b[0m\u001b[0;34m\u001b[0m\u001b[0;34m\u001b[0m\u001b[0m\n\u001b[0;32m--> 961\u001b[0;31m         \u001b[0mloc\u001b[0m \u001b[0;34m=\u001b[0m \u001b[0mself\u001b[0m\u001b[0;34m.\u001b[0m\u001b[0mindex\u001b[0m\u001b[0;34m.\u001b[0m\u001b[0mget_loc\u001b[0m\u001b[0;34m(\u001b[0m\u001b[0mlabel\u001b[0m\u001b[0;34m)\u001b[0m\u001b[0;34m\u001b[0m\u001b[0;34m\u001b[0m\u001b[0m\n\u001b[0m\u001b[1;32m    962\u001b[0m         \u001b[0;32mreturn\u001b[0m \u001b[0mself\u001b[0m\u001b[0;34m.\u001b[0m\u001b[0mindex\u001b[0m\u001b[0;34m.\u001b[0m\u001b[0m_get_values_for_loc\u001b[0m\u001b[0;34m(\u001b[0m\u001b[0mself\u001b[0m\u001b[0;34m,\u001b[0m \u001b[0mloc\u001b[0m\u001b[0;34m,\u001b[0m \u001b[0mlabel\u001b[0m\u001b[0;34m)\u001b[0m\u001b[0;34m\u001b[0m\u001b[0;34m\u001b[0m\u001b[0m\n\u001b[1;32m    963\u001b[0m \u001b[0;34m\u001b[0m\u001b[0m\n",
      "\u001b[0;32m~/opt/anaconda3/lib/python3.8/site-packages/pandas/core/indexes/base.py\u001b[0m in \u001b[0;36mget_loc\u001b[0;34m(self, key, method, tolerance)\u001b[0m\n\u001b[1;32m   3080\u001b[0m                 \u001b[0;32mreturn\u001b[0m \u001b[0mself\u001b[0m\u001b[0;34m.\u001b[0m\u001b[0m_engine\u001b[0m\u001b[0;34m.\u001b[0m\u001b[0mget_loc\u001b[0m\u001b[0;34m(\u001b[0m\u001b[0mcasted_key\u001b[0m\u001b[0;34m)\u001b[0m\u001b[0;34m\u001b[0m\u001b[0;34m\u001b[0m\u001b[0m\n\u001b[1;32m   3081\u001b[0m             \u001b[0;32mexcept\u001b[0m \u001b[0mKeyError\u001b[0m \u001b[0;32mas\u001b[0m \u001b[0merr\u001b[0m\u001b[0;34m:\u001b[0m\u001b[0;34m\u001b[0m\u001b[0;34m\u001b[0m\u001b[0m\n\u001b[0;32m-> 3082\u001b[0;31m                 \u001b[0;32mraise\u001b[0m \u001b[0mKeyError\u001b[0m\u001b[0;34m(\u001b[0m\u001b[0mkey\u001b[0m\u001b[0;34m)\u001b[0m \u001b[0;32mfrom\u001b[0m \u001b[0merr\u001b[0m\u001b[0;34m\u001b[0m\u001b[0;34m\u001b[0m\u001b[0m\n\u001b[0m\u001b[1;32m   3083\u001b[0m \u001b[0;34m\u001b[0m\u001b[0m\n\u001b[1;32m   3084\u001b[0m         \u001b[0;32mif\u001b[0m \u001b[0mtolerance\u001b[0m \u001b[0;32mis\u001b[0m \u001b[0;32mnot\u001b[0m \u001b[0;32mNone\u001b[0m\u001b[0;34m:\u001b[0m\u001b[0;34m\u001b[0m\u001b[0;34m\u001b[0m\u001b[0m\n",
      "\u001b[0;31mKeyError\u001b[0m: 23"
     ]
    }
   ],
   "source": [
    "print(\"Relegated Clubs: \")\n",
    "print(dfi['Team'][19])\n",
    "print(dfi['Team'][20])\n",
    "print(dfi['Team'][21])\n",
    "print(dfi['Team'][22])\n",
    "\n",
    "print(\"Relegated Clubs: \")\n",
    "print(dfi['Team'][19])\n",
    "print(dfi['Team'][20])\n",
    "print(dfi['Team'][21])\n",
    "print(dfi['Team'][22])\n",
    "\n",
    "print(\"Relegated Clubs: \")\n",
    "print(dfi['Team'][19])\n",
    "print(dfi['Team'][20])\n",
    "print(dfi['Team'][21])\n",
    "print(dfi['Team'][22])\n",
    "\n",
    "print(\"Relegated Clubs: \")\n",
    "print(dfi['Team'][19])\n",
    "print(dfi['Team'][20])\n",
    "print(dfi['Team'][21])\n",
    "print(dfi['Team'][22])"
   ]
  }
 ],
 "metadata": {
  "kernelspec": {
   "display_name": "Python 3",
   "language": "python",
   "name": "python3"
  },
  "language_info": {
   "codemirror_mode": {
    "name": "ipython",
    "version": 3
   },
   "file_extension": ".py",
   "mimetype": "text/x-python",
   "name": "python",
   "nbconvert_exporter": "python",
   "pygments_lexer": "ipython3",
   "version": "3.8.8"
  }
 },
 "nbformat": 4,
 "nbformat_minor": 5
}
